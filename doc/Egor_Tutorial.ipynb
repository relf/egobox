{
    "cells": [
        {
            "attachments": {},
            "cell_type": "markdown",
            "id": "72380b9b",
            "metadata": {},
            "source": [
                "# Using _egobox_ optimizer _Egor_"
            ]
        },
        {
            "attachments": {},
            "cell_type": "markdown",
            "id": "31022791",
            "metadata": {},
            "source": [
                "## Installation"
            ]
        },
        {
            "cell_type": "code",
            "execution_count": 1,
            "id": "1504e619-5775-42d3-8f48-7339272303ec",
            "metadata": {},
            "outputs": [],
            "source": [
                "# %pip install egobox"
            ]
        },
        {
            "attachments": {},
            "cell_type": "markdown",
            "id": "4c2757f5",
            "metadata": {},
            "source": [
                "We import _egobox_ as _egx_ for short."
            ]
        },
        {
            "cell_type": "code",
            "execution_count": 2,
            "id": "0edaf00f",
            "metadata": {},
            "outputs": [],
            "source": [
                "import numpy as np\n",
                "import egobox as egx"
            ]
        },
        {
            "cell_type": "markdown",
            "id": "6c8c8c84",
            "metadata": {},
            "source": [
                "You may setup the logging level to get optimization progress during the execution"
            ]
        },
        {
            "cell_type": "code",
            "execution_count": 3,
            "id": "af2d82be",
            "metadata": {},
            "outputs": [],
            "source": [
                "# To display optimization information (none by default)\n",
                "import logging\n",
                "logging.basicConfig(level=logging.INFO)"
            ]
        },
        {
            "attachments": {},
            "cell_type": "markdown",
            "id": "22997c39",
            "metadata": {},
            "source": [
                "## Example 1 : Continuous optimization"
            ]
        },
        {
            "attachments": {},
            "cell_type": "markdown",
            "id": "faae2555",
            "metadata": {},
            "source": [
                "### Test functions"
            ]
        },
        {
            "cell_type": "code",
            "execution_count": 4,
            "id": "7f6da807",
            "metadata": {},
            "outputs": [],
            "source": [
                "xspecs_xsinx = [[0., 25.]]\n",
                "n_cstr_xsinx = 0\n",
                "\n",
                "def xsinx(x: np.ndarray) -> np.ndarray:\n",
                "    x = np.atleast_2d(x)\n",
                "    y = (x - 3.5) * np.sin((x - 3.5) / (np.pi))\n",
                "    return y"
            ]
        },
        {
            "cell_type": "code",
            "execution_count": 5,
            "id": "4c436437",
            "metadata": {},
            "outputs": [],
            "source": [
                "xspecs_g24 = [[0., 3.], [0., 4.]]\n",
                "n_cstr_g24 = 2\n",
                "\n",
                "# Objective\n",
                "def G24(point):\n",
                "    \"\"\"\n",
                "    Function g24\n",
                "    1 global optimum y_opt = -5.5080 at x_opt =(2.3295, 3.1785)\n",
                "    \"\"\"\n",
                "    p = np.atleast_2d(point)\n",
                "    return - p[:, 0] - p[:, 1]\n",
                "\n",
                "# Constraints < 0\n",
                "def G24_c1(point):\n",
                "    p = np.atleast_2d(point)\n",
                "    return (- 2.0 * p[:, 0] ** 4.0\n",
                "            + 8.0 * p[:, 0] ** 3.0 \n",
                "            - 8.0 * p[:, 0] ** 2.0 \n",
                "            + p[:, 1] - 2.0)\n",
                "\n",
                "def G24_c2(point):\n",
                "    p = np.atleast_2d(point)\n",
                "    return (-4.0 * p[:, 0] ** 4.0\n",
                "            + 32.0 * p[:, 0] ** 3.0\n",
                "            - 88.0 * p[:, 0] ** 2.0\n",
                "            + 96.0 * p[:, 0]\n",
                "            + p[:, 1] - 36.0)\n",
                "\n",
                "# Grouped evaluation\n",
                "def g24(point):\n",
                "    p = np.atleast_2d(point)\n",
                "    return np.array([G24(p), G24_c1(p), G24_c2(p)]).T\n"
            ]
        },
        {
            "attachments": {},
            "cell_type": "markdown",
            "id": "45641636",
            "metadata": {},
            "source": [
                "### Continuous optimization"
            ]
        },
        {
            "cell_type": "code",
            "execution_count": 6,
            "metadata": {},
            "outputs": [],
            "source": [
                "egor = egx.Egor(xspecs_xsinx, n_cstr=n_cstr_xsinx)   # see help(egor) for options"
            ]
        },
        {
            "cell_type": "code",
            "execution_count": 7,
            "id": "c8942031",
            "metadata": {},
            "outputs": [],
            "source": [
                "egor = egx.Egor(xspecs_g24, \n",
                "                n_doe=10, \n",
                "                n_cstr=n_cstr_g24, \n",
                "                cstr_tol=[1e-3, 1e-3],\n",
                "                infill_strategy=egx.InfillStrategy.WB2,\n",
                "                target=-5.5,\n",
                "                trego=False,\n",
                "            )   "
            ]
        },
        {
            "cell_type": "code",
            "execution_count": 8,
            "id": "c12b8e9d",
            "metadata": {},
            "outputs": [
                {
                    "name": "stderr",
                    "output_type": "stream",
                    "text": [
                        "INFO:egobox_ego.egor:EgorConfig { max_iters: 30, n_start: 20, n_doe: 10, n_cstr: 2, cstr_tol: Some([0.001, 0.001], shape=[2], strides=[1], layout=CFcf (0xf), const ndim=1), doe: None, q_ei: KrigingBeliever, q_optmod: 1, q_points: 1, gp: GpConfig { regression_spec: RegressionSpec(CONSTANT), correlation_spec: CorrelationSpec(SQUAREDEXPONENTIAL), kpls_dim: None, n_clusters: Fixed { nb: 1 }, recombination: Hard, theta_tuning: Full { init: [0.1], shape=[1], strides=[1], layout=CFcf (0xf), const ndim=1, bounds: [(0.001, 20.0)], shape=[1], strides=[1], layout=CFcf (0xf), const ndim=1 }, n_start: 10, max_eval: 50 }, infill_criterion: WB2, infill_optimizer: Cobyla, target: -5.5, outdir: None, warm_start: false, hot_start: Disabled, xtypes: [Cont(0.0, 3.0), Cont(0.0, 4.0)], seed: None, trego: TregoConfig { activated: false, n_local_steps: 4, d: (1e-6, 1.0), beta: 0.9, gamma: 1.1111111111111112, sigma0: 0.1 }, coego: CoegoConfig { activated: false, n_coop: 5 }, cstr_infill: false, cstr_strategy: MeanConstraint }\n",
                        "INFO:egobox_ego.solver.egor_solver:Compute initial LHS with 10 points\n",
                        "INFO:egobox_ego.solver.solver_impl:Train surrogates with 10 points...\n",
                        "INFO:egobox_ego.solver.solver_impl:Constraint[1] clustering and training...\n",
                        "INFO:egobox_ego.solver.solver_impl:Constraint[2] clustering and training...\n",
                        "INFO:egobox_ego.solver.solver_impl:Objective clustering and training...\n",
                        "INFO:egobox_ego.solver.solver_impl:... Constraint[2] trained (1 / Mixture[Hard])\n",
                        "INFO:egobox_ego.solver.solver_impl:... Constraint[1] trained (1 / Mixture[Hard])\n",
                        "INFO:egobox_ego.solver.solver_impl:... Objective trained (1 / Mixture[Hard])\n",
                        "INFO:egobox_ego.solver.solver_computations:Infill criterion WB2 scaling is updated to 9.616832191879665\n",
                        "INFO:egobox_ego.solver.solver_computations:Surrogated constraints scaling is updated to [16.422505880644348, 31.872025979494744]\n",
                        "INFO:egobox_ego.solver.solver_infill_optim:Optimize infill criterion...\n",
                        "INFO:egobox_ego.solver.solver_impl:Infill criterion WB2 max found = 0.8092954970343212\n",
                        "INFO:egobox_ego.solver.solver_impl:+1 point(s), total: 11 points\n",
                        "INFO:egobox_ego.solver.egor_solver:********* End iteration 1/30 in 0.030s: Best fun(x[5])=[-3.2431689239675965, -2.421636820304882, -2.202017227293446] at x=[2.346106750844471, 0.8970621731231254]\n",
                        "INFO:egobox_ego.solver.solver_impl:Train surrogates with 11 points...\n",
                        "INFO:egobox_ego.solver.solver_impl:Objective model hyperparameters optim init >>> [Full { init: [0.001000000000000001, 0.001000000000000001], shape=[2], strides=[1], layout=CFcf (0xf), const ndim=1, bounds: [(0.001, 20.0)], shape=[1], strides=[1], layout=CFcf (0xf), const ndim=1 }]\n",
                        "INFO:egobox_ego.solver.solver_computations:Infill criterion WB2 scaling is updated to 9.776636586560235\n",
                        "INFO:egobox_ego.solver.solver_computations:Surrogated constraints scaling is updated to [16.92470414867415, 32.36487997277974]\n",
                        "INFO:egobox_ego.solver.solver_infill_optim:Optimize infill criterion...\n",
                        "INFO:egobox_ego.solver.solver_impl:Infill criterion WB2 max found = 0.796036560823609\n",
                        "INFO:egobox_ego.solver.solver_impl:+1 point(s), total: 12 points\n",
                        "INFO:egobox_ego.solver.egor_solver:********* End iteration 2/30 in 0.016s: Best fun(x[5])=[-3.2431689239675965, -2.421636820304882, -2.202017227293446] at x=[2.346106750844471, 0.8970621731231254]\n",
                        "INFO:egobox_ego.solver.solver_impl:Train surrogates with 12 points...\n",
                        "INFO:egobox_ego.solver.solver_impl:Objective model hyperparameters optim init >>> [Full { init: [0.001000000000000001, 0.001000000000000001], shape=[2], strides=[1], layout=CFcf (0xf), const ndim=1, bounds: [(0.001, 20.0)], shape=[1], strides=[1], layout=CFcf (0xf), const ndim=1 }]\n",
                        "INFO:egobox_ego.solver.solver_computations:Infill criterion WB2 scaling is updated to 9.92413409048408\n",
                        "INFO:egobox_ego.solver.solver_computations:Surrogated constraints scaling is updated to [17.563684994940246, 32.87984826354297]\n",
                        "INFO:egobox_ego.solver.solver_infill_optim:Optimize infill criterion...\n",
                        "INFO:egobox_ego.solver.solver_impl:Infill criterion WB2 max found = 0.7832743679832594\n",
                        "INFO:egobox_ego.solver.solver_impl:+1 point(s), total: 13 points\n",
                        "INFO:egobox_ego.solver.egor_solver:********* End iteration 3/30 in 0.018s: Best fun(x[5])=[-3.2431689239675965, -2.421636820304882, -2.202017227293446] at x=[2.346106750844471, 0.8970621731231254]\n",
                        "INFO:egobox_ego.solver.solver_impl:Train surrogates with 13 points...\n",
                        "INFO:egobox_ego.solver.solver_impl:Objective model hyperparameters optim init >>> [Full { init: [0.001000000000000001, 0.001000000000000001], shape=[2], strides=[1], layout=CFcf (0xf), const ndim=1, bounds: [(0.001, 20.0)], shape=[1], strides=[1], layout=CFcf (0xf), const ndim=1 }]\n",
                        "INFO:egobox_ego.solver.solver_computations:Infill criterion WB2 scaling is updated to 9.437752974081727\n",
                        "INFO:egobox_ego.solver.solver_computations:Surrogated constraints scaling is updated to [16.204616202845834, 29.346015104113896]\n",
                        "INFO:egobox_ego.solver.solver_infill_optim:Optimize infill criterion...\n",
                        "INFO:egobox_ego.solver.solver_impl:Infill criterion WB2 max found = 0.8236152790854372\n",
                        "INFO:egobox_ego.solver.solver_impl:+1 point(s), total: 14 points\n",
                        "INFO:egobox_ego.solver.egor_solver:********* End iteration 4/30 in 0.017s: Best fun(x[13])=[-5.508123174514612, -0.00023894120759626603, 0.0002507327578982199] at x=[2.3295582591760757, 3.178564915338536]\n",
                        "INFO:egobox_ego.egor:OptimizationResult:\n",
                        "    Solver:        Egor\n",
                        "    param (best):  [2.3295582591760757, 3.178564915338536], shape=[2], strides=[1], layout=CFcf (0xf), const ndim=1\n",
                        "    cost (best):   -5.508123174514612\n",
                        "    iters (best):  4\n",
                        "    iters (total): 4\n",
                        "    termination:   Target cost value reached\n",
                        "    time:          84.9573ms\n",
                        "\n",
                        "INFO:egobox_ego.egor:Data: \n",
                        "[[0.49068648125414066, 2.552327764524235, -3.0430142457783758, -0.5446481841342201, -3.9810873318691904],\n",
                        " [2.5237490831299527, 2.929416018588692, -5.453165101718644, -2.56495403962919, 0.822930123334551],\n",
                        " [2.8315786988702873, 0.23572417577274285, -3.06730287464303, -12.85331662241285, -0.14490773556794068],\n",
                        " [1.2953442345831658, 1.846734008979548, -3.1420782435627137, -1.8195706470620252, 0.8328451065373272],\n",
                        " [0.7208367712579264, 1.4835329934220598, -2.2043697646799862, -2.216885400453604, -0.13576685661958265],\n",
                        " [2.346106750844471, 0.8970621731231254, -3.2431689239675965, -2.421636820304882, -2.202017227293446],\n",
                        " [0.034893304982045265, 0.41276329202980105, -0.44765659701184635, -1.5966401419322005, -32.34326962892456],\n",
                        " [1.6277753288962056, 3.81556788304432, -5.443343211940526, 1.0813427795874233, 0.8471917827804418],\n",
                        " [1.9140313807208709, 2.0783041273378187, -3.9923355080586895, 0.02415293712032973, -1.8627895287365561],\n",
                        " [0.9425997533613583, 3.5167190346848787, -4.459318788046237, -0.47012352331848506, 3.4609330525482065],\n",
                        " [2.3658419016504784, 3.1471674178145483, -5.513009319465027, -0.3510965186002175, 0.1462368934328353],\n",
                        " [2.3297987964440035, 3.1830656198203595, -5.512864416264363, 0.002296568123858478, 0.00588233357976975],\n",
                        " [2.329733518018299, 3.178510777102213, -5.508244295120512, -0.0017247513425484584, 0.0010205198488719702],\n",
                        " [2.3295582591760757, 3.178564915338536, -5.508123174514612, -0.00023894120759626603, 0.0002507327578982199]]\n",
                        "INFO:egobox_ego.egor:Optim Result: min f(x)=[-5.508123174514612, -0.00023894120759626603, 0.0002507327578982199] at x=[2.3295582591760757, 3.178564915338536]\n"
                    ]
                },
                {
                    "name": "stdout",
                    "output_type": "stream",
                    "text": [
                        "Optimization f=[-5.50812317e+00 -2.38941208e-04  2.50732758e-04] at [2.32955826 3.17856492]\n",
                        "Optimization history: \n",
                        "Inputs = [[0.49068648 2.55232776]\n",
                        " [2.52374908 2.92941602]\n",
                        " [2.8315787  0.23572418]\n",
                        " [1.29534423 1.84673401]\n",
                        " [0.72083677 1.48353299]\n",
                        " [2.34610675 0.89706217]\n",
                        " [0.0348933  0.41276329]\n",
                        " [1.62777533 3.81556788]\n",
                        " [1.91403138 2.07830413]\n",
                        " [0.94259975 3.51671903]\n",
                        " [2.3658419  3.14716742]\n",
                        " [2.3297988  3.18306562]\n",
                        " [2.32973352 3.17851078]\n",
                        " [2.32955826 3.17856492]]\n",
                        "Outputs = [[-3.04301425e+00 -5.44648184e-01 -3.98108733e+00]\n",
                        " [-5.45316510e+00 -2.56495404e+00  8.22930123e-01]\n",
                        " [-3.06730287e+00 -1.28533166e+01 -1.44907736e-01]\n",
                        " [-3.14207824e+00 -1.81957065e+00  8.32845107e-01]\n",
                        " [-2.20436976e+00 -2.21688540e+00 -1.35766857e-01]\n",
                        " [-3.24316892e+00 -2.42163682e+00 -2.20201723e+00]\n",
                        " [-4.47656597e-01 -1.59664014e+00 -3.23432696e+01]\n",
                        " [-5.44334321e+00  1.08134278e+00  8.47191783e-01]\n",
                        " [-3.99233551e+00  2.41529371e-02 -1.86278953e+00]\n",
                        " [-4.45931879e+00 -4.70123523e-01  3.46093305e+00]\n",
                        " [-5.51300932e+00 -3.51096519e-01  1.46236893e-01]\n",
                        " [-5.51286442e+00  2.29656812e-03  5.88233358e-03]\n",
                        " [-5.50824430e+00 -1.72475134e-03  1.02051985e-03]\n",
                        " [-5.50812317e+00 -2.38941208e-04  2.50732758e-04]]\n"
                    ]
                }
            ],
            "source": [
                "res = egor.minimize(g24, max_iters=30)\n",
                "print(f\"Optimization f={res.y_opt} at {res.x_opt}\")\n",
                "print(\"Optimization history: \")\n",
                "print(f\"Inputs = {res.x_doe}\")\n",
                "print(f\"Outputs = {res.y_doe}\")"
            ]
        },
        {
            "cell_type": "markdown",
            "metadata": {},
            "source": [
                "### Egor as a service: ask-and-tell interface"
            ]
        },
        {
            "cell_type": "markdown",
            "metadata": {},
            "source": [
                "When the user needs to be in control of the optimization loop, `Egor` can be used as a service. \n",
                "\n",
                "For instance with the `xsinx` objective function, we can do:"
            ]
        },
        {
            "cell_type": "code",
            "execution_count": 9,
            "metadata": {},
            "outputs": [
                {
                    "ename": "PanicException",
                    "evalue": "Error in xspecs conversion: PyErr { type: <class 'AttributeError'>, value: AttributeError(\"'list' object has no attribute 'xtype'\"), traceback: None }",
                    "output_type": "error",
                    "traceback": [
                        "\u001b[1;31m---------------------------------------------------------------------------\u001b[0m",
                        "\u001b[1;31mPanicException\u001b[0m                            Traceback (most recent call last)",
                        "Cell \u001b[1;32mIn[9], line 5\u001b[0m\n\u001b[0;32m      2\u001b[0m egor \u001b[38;5;241m=\u001b[39m egx\u001b[38;5;241m.\u001b[39mEgor(xlimits, seed\u001b[38;5;241m=\u001b[39m\u001b[38;5;241m42\u001b[39m) \n\u001b[0;32m      4\u001b[0m \u001b[38;5;66;03m# initial doe\u001b[39;00m\n\u001b[1;32m----> 5\u001b[0m x_doe \u001b[38;5;241m=\u001b[39m \u001b[43megx\u001b[49m\u001b[38;5;241;43m.\u001b[39;49m\u001b[43mlhs\u001b[49m\u001b[43m(\u001b[49m\u001b[43mxlimits\u001b[49m\u001b[43m,\u001b[49m\u001b[43m \u001b[49m\u001b[38;5;241;43m3\u001b[39;49m\u001b[43m,\u001b[49m\u001b[43m \u001b[49m\u001b[43mseed\u001b[49m\u001b[38;5;241;43m=\u001b[39;49m\u001b[38;5;241;43m42\u001b[39;49m\u001b[43m)\u001b[49m\n\u001b[0;32m      6\u001b[0m y_doe \u001b[38;5;241m=\u001b[39m xsinx(x_doe)\n\u001b[0;32m      7\u001b[0m \u001b[38;5;28;01mfor\u001b[39;00m _ \u001b[38;5;129;01min\u001b[39;00m \u001b[38;5;28mrange\u001b[39m(\u001b[38;5;241m10\u001b[39m): \u001b[38;5;66;03m# run for 10 iterations\u001b[39;00m\n",
                        "\u001b[1;31mPanicException\u001b[0m: Error in xspecs conversion: PyErr { type: <class 'AttributeError'>, value: AttributeError(\"'list' object has no attribute 'xtype'\"), traceback: None }"
                    ]
                }
            ],
            "source": [
                "xlimits = [[0.0, 25.0]]\n",
                "egor = egx.Egor(xlimits, seed=42) \n",
                "\n",
                "# initial doe\n",
                "x_doe = egx.lhs(xlimits, 3, seed=42)\n",
                "y_doe = xsinx(x_doe)\n",
                "for _ in range(10): # run for 10 iterations\n",
                "    x = egor.suggest(x_doe, y_doe)  # ask for best location\n",
                "    x_doe = np.concatenate((x_doe, x))\n",
                "    y_doe = np.concatenate((y_doe, xsinx(x))) \n",
                "res = egor.get_result(x_doe, y_doe)\n",
                "print(f\"Optimization f={res.y_opt} at {res.x_opt}\")"
            ]
        },
        {
            "attachments": {},
            "cell_type": "markdown",
            "id": "fb8ddd3d",
            "metadata": {},
            "source": [
                "## Example 2 : Mixed-integer optimization"
            ]
        },
        {
            "attachments": {},
            "cell_type": "markdown",
            "id": "d46259b3",
            "metadata": {},
            "source": [
                "### Test function"
            ]
        },
        {
            "cell_type": "code",
            "execution_count": null,
            "id": "6948efc1",
            "metadata": {},
            "outputs": [],
            "source": [
                "xspecs_mixint_xsinx = [egx.XSpec(egx.XType.INT, [0, 25])]\n",
                "n_cstr_mixint_xsinx = 0\n",
                "\n",
                "def mixint_xsinx(x: np.ndarray) -> np.ndarray:\n",
                "    x = np.atleast_2d(x)\n",
                "    if (np.abs(np.linalg.norm(np.floor(x))-np.linalg.norm(x))< 1e-8):\n",
                "        y = (x - 3.5) * np.sin((x - 3.5) / (np.pi))\n",
                "    else:\n",
                "        raise ValueError(f\"Bad input: mixint_xsinx accepts integer only, got {x}\")\n",
                "    return y"
            ]
        },
        {
            "attachments": {},
            "cell_type": "markdown",
            "id": "67faa229",
            "metadata": {},
            "source": [
                "### Mixed-integer optimization with _Egor_"
            ]
        },
        {
            "cell_type": "code",
            "execution_count": null,
            "id": "928d1f38",
            "metadata": {},
            "outputs": [],
            "source": [
                "egor = egx.Egor(xspecs_mixint_xsinx, \n",
                "                     n_doe=3, \n",
                "                     infill_strategy=egx.InfillStrategy.EI,\n",
                "                     target=-15.12,\n",
                "                    )  # see help(egor) for options\n",
                "res = egor.minimize(mixint_xsinx, max_iters=30)\n",
                "print(f\"Optimization f={res.y_opt} at {res.x_opt}\")\n",
                "print(\"Optimization history: \")\n",
                "print(f\"Inputs = {res.x_doe}\")\n",
                "print(f\"Outputs = {res.y_doe}\")"
            ]
        },
        {
            "attachments": {},
            "cell_type": "markdown",
            "id": "b9747211",
            "metadata": {},
            "source": [
                "## Example 3 : More mixed-integer optimization"
            ]
        },
        {
            "cell_type": "markdown",
            "id": "0fe3a862",
            "metadata": {},
            "source": [
                "In the following example we see we can have other special integer type cases, where a component of x can take one value out of a list of ordered values (ORD type) or being like an enum value (ENUM type). Those types differ by the processing related to the continuous relaxation made behind the scene:\n",
                "* For INT type, resulting float is rounded to the closest int value,\n",
                "* For ORD type, resulting float is cast to closest value among the given valid ones,\n",
                "* For ENUM type, one hot encoding is performed to give the resulting value.  "
            ]
        },
        {
            "cell_type": "markdown",
            "id": "9c7d3511",
            "metadata": {},
            "source": [
                "### Test function"
            ]
        },
        {
            "cell_type": "code",
            "execution_count": null,
            "id": "f1615d5c",
            "metadata": {},
            "outputs": [],
            "source": [
                "# Objective function which takes [FLOAT, ENUM1, ENUM2, ORD] as input\n",
                "# Note that ENUM values are passed as indice value eg either 0, 1 or 2 for a 3-sized enum  \n",
                "def mixobj(X):\n",
                "    # float\n",
                "    x1 = X[:, 0]\n",
                "    #  ENUM 1\n",
                "    c1 = X[:, 1]\n",
                "    x2 = c1 == 0\n",
                "    x3 = c1 == 1\n",
                "    x4 = c1 == 2\n",
                "    #  ENUM 2\n",
                "    c2 = X[:, 2]\n",
                "    x5 = c2 == 0\n",
                "    x6 = c2 == 1\n",
                "    # int\n",
                "    i = X[:, 3]\n",
                "\n",
                "    y = (x2 + 2 * x3 + 3 * x4) * x5 * x1 + (x2 + 2 * x3 + 3 * x4) * x6 * 0.95 * x1 + i\n",
                "    return y.reshape(-1, 1)"
            ]
        },
        {
            "cell_type": "markdown",
            "id": "fa3c4223",
            "metadata": {},
            "source": [
                "### Mixed-integer optimization with _Egor_"
            ]
        },
        {
            "cell_type": "code",
            "execution_count": null,
            "id": "d14fff89",
            "metadata": {},
            "outputs": [],
            "source": [
                "xtypes = [\n",
                "    egx.XSpec(egx.XType.FLOAT, [-5.0, 5.0]),\n",
                "    egx.XSpec(egx.XType.ENUM, tags=[\"blue\", \"red\", \"green\"]),\n",
                "    egx.XSpec(egx.XType.ENUM, xlimits=[2]),\n",
                "    egx.XSpec(egx.XType.ORD, [0, 2, 3]),\n",
                "]\n",
                "egor = egx.Egor(xtypes, seed=42)\n",
                "res = egor.minimize(mixobj, max_iters=10)\n",
                "print(f\"Optimization f={res.y_opt} at {res.x_opt}\")\n",
                "print(\"Optimization history: \")\n",
                "print(f\"Inputs = {res.x_doe}\")\n",
                "print(f\"Outputs = {res.y_doe}\")"
            ]
        },
        {
            "cell_type": "markdown",
            "id": "705bf10d",
            "metadata": {},
            "source": [
                "Note that `x_opt` result contains indices for corresponding optional tags list hence the second component should be read as 0=\"red\", 1=\"green\", 2=\"blue\", while the third component was unamed 0 correspond to first enum value and 1 to the second one."
            ]
        },
        {
            "cell_type": "markdown",
            "metadata": {},
            "source": [
                "## Usage"
            ]
        },
        {
            "cell_type": "code",
            "execution_count": null,
            "id": "b91f14f2",
            "metadata": {},
            "outputs": [],
            "source": [
                "help(egor)"
            ]
        },
        {
            "cell_type": "code",
            "execution_count": null,
            "id": "649405db",
            "metadata": {},
            "outputs": [],
            "source": [
                "help(egx.GpConfig)"
            ]
        }
    ],
    "metadata": {
        "kernelspec": {
            "display_name": "base",
            "language": "python",
            "name": "python3"
        },
        "language_info": {
            "codemirror_mode": {
                "name": "ipython",
                "version": 3
            },
            "file_extension": ".py",
            "mimetype": "text/x-python",
            "name": "python",
            "nbconvert_exporter": "python",
            "pygments_lexer": "ipython3",
            "version": "3.11.5"
        }
    },
    "nbformat": 4,
    "nbformat_minor": 5
}
