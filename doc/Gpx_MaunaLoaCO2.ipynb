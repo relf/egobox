{
 "cells": [
  {
   "cell_type": "markdown",
   "id": "daf8e206-a2e7-46a5-9c95-8e6a9e34cb63",
   "metadata": {},
   "source": [
    "# Mauna Loa CO2 scikit-learn example"
   ]
  },
  {
   "cell_type": "markdown",
   "id": "617a3bad-3cb0-4202-8926-093d90cd8d56",
   "metadata": {},
   "source": [
    "We are going to use [scikit-learn Mauna Loa CO2 example](https://scikit-learn.org/stable/auto_examples/gaussian_process/plot_gpr_co2.html) data to train a GpMix surrogate model."
   ]
  },
  {
   "cell_type": "markdown",
   "id": "561fe008-b29c-4555-876c-467798de30ea",
   "metadata": {},
   "source": [
    "## Dataset retrieval "
   ]
  },
  {
   "cell_type": "markdown",
   "id": "893140f6-4bd8-46c0-ba27-ef46052c18d0",
   "metadata": {},
   "source": [
    "You can skip this section if you already have the Mauna Loa CO2 dataset."
   ]
  },
  {
   "cell_type": "code",
   "execution_count": 1,
   "id": "1142fdce-74b5-4a36-90d4-46923b8f0bca",
   "metadata": {},
   "outputs": [
    {
     "data": {
      "text/html": [
       "<div>\n",
       "<style scoped>\n",
       "    .dataframe tbody tr th:only-of-type {\n",
       "        vertical-align: middle;\n",
       "    }\n",
       "\n",
       "    .dataframe tbody tr th {\n",
       "        vertical-align: top;\n",
       "    }\n",
       "\n",
       "    .dataframe thead th {\n",
       "        text-align: right;\n",
       "    }\n",
       "</style>\n",
       "<table border=\"1\" class=\"dataframe\">\n",
       "  <thead>\n",
       "    <tr style=\"text-align: right;\">\n",
       "      <th></th>\n",
       "      <th>year</th>\n",
       "      <th>month</th>\n",
       "      <th>day</th>\n",
       "      <th>weight</th>\n",
       "      <th>flag</th>\n",
       "      <th>station</th>\n",
       "      <th>co2</th>\n",
       "    </tr>\n",
       "  </thead>\n",
       "  <tbody>\n",
       "    <tr>\n",
       "      <th>0</th>\n",
       "      <td>1958</td>\n",
       "      <td>3</td>\n",
       "      <td>29</td>\n",
       "      <td>4</td>\n",
       "      <td>0</td>\n",
       "      <td>MLO</td>\n",
       "      <td>316.1</td>\n",
       "    </tr>\n",
       "    <tr>\n",
       "      <th>1</th>\n",
       "      <td>1958</td>\n",
       "      <td>4</td>\n",
       "      <td>5</td>\n",
       "      <td>6</td>\n",
       "      <td>0</td>\n",
       "      <td>MLO</td>\n",
       "      <td>317.3</td>\n",
       "    </tr>\n",
       "    <tr>\n",
       "      <th>2</th>\n",
       "      <td>1958</td>\n",
       "      <td>4</td>\n",
       "      <td>12</td>\n",
       "      <td>4</td>\n",
       "      <td>0</td>\n",
       "      <td>MLO</td>\n",
       "      <td>317.6</td>\n",
       "    </tr>\n",
       "    <tr>\n",
       "      <th>3</th>\n",
       "      <td>1958</td>\n",
       "      <td>4</td>\n",
       "      <td>19</td>\n",
       "      <td>6</td>\n",
       "      <td>0</td>\n",
       "      <td>MLO</td>\n",
       "      <td>317.5</td>\n",
       "    </tr>\n",
       "    <tr>\n",
       "      <th>4</th>\n",
       "      <td>1958</td>\n",
       "      <td>4</td>\n",
       "      <td>26</td>\n",
       "      <td>2</td>\n",
       "      <td>0</td>\n",
       "      <td>MLO</td>\n",
       "      <td>316.4</td>\n",
       "    </tr>\n",
       "  </tbody>\n",
       "</table>\n",
       "</div>"
      ],
      "text/plain": [
       "   year  month  day  weight  flag station    co2\n",
       "0  1958      3   29       4     0     MLO  316.1\n",
       "1  1958      4    5       6     0     MLO  317.3\n",
       "2  1958      4   12       4     0     MLO  317.6\n",
       "3  1958      4   19       6     0     MLO  317.5\n",
       "4  1958      4   26       2     0     MLO  316.4"
      ]
     },
     "execution_count": 1,
     "metadata": {},
     "output_type": "execute_result"
    }
   ],
   "source": [
    "from sklearn.datasets import fetch_openml\n",
    "\n",
    "co2 = fetch_openml(data_id=41187, as_frame=True, parser=\"pandas\")\n",
    "co2.frame.head()"
   ]
  },
  {
   "cell_type": "code",
   "execution_count": 2,
   "id": "669de3e3-cc0c-434c-9454-12c38bc21453",
   "metadata": {},
   "outputs": [
    {
     "data": {
      "text/html": [
       "<div>\n",
       "<style scoped>\n",
       "    .dataframe tbody tr th:only-of-type {\n",
       "        vertical-align: middle;\n",
       "    }\n",
       "\n",
       "    .dataframe tbody tr th {\n",
       "        vertical-align: top;\n",
       "    }\n",
       "\n",
       "    .dataframe thead th {\n",
       "        text-align: right;\n",
       "    }\n",
       "</style>\n",
       "<table border=\"1\" class=\"dataframe\">\n",
       "  <thead>\n",
       "    <tr style=\"text-align: right;\">\n",
       "      <th></th>\n",
       "      <th>co2</th>\n",
       "    </tr>\n",
       "    <tr>\n",
       "      <th>date</th>\n",
       "      <th></th>\n",
       "    </tr>\n",
       "  </thead>\n",
       "  <tbody>\n",
       "    <tr>\n",
       "      <th>1958-03-29</th>\n",
       "      <td>316.1</td>\n",
       "    </tr>\n",
       "    <tr>\n",
       "      <th>1958-04-05</th>\n",
       "      <td>317.3</td>\n",
       "    </tr>\n",
       "    <tr>\n",
       "      <th>1958-04-12</th>\n",
       "      <td>317.6</td>\n",
       "    </tr>\n",
       "    <tr>\n",
       "      <th>1958-04-19</th>\n",
       "      <td>317.5</td>\n",
       "    </tr>\n",
       "    <tr>\n",
       "      <th>1958-04-26</th>\n",
       "      <td>316.4</td>\n",
       "    </tr>\n",
       "  </tbody>\n",
       "</table>\n",
       "</div>"
      ],
      "text/plain": [
       "              co2\n",
       "date             \n",
       "1958-03-29  316.1\n",
       "1958-04-05  317.3\n",
       "1958-04-12  317.6\n",
       "1958-04-19  317.5\n",
       "1958-04-26  316.4"
      ]
     },
     "execution_count": 2,
     "metadata": {},
     "output_type": "execute_result"
    }
   ],
   "source": [
    "import pandas as pd\n",
    "\n",
    "co2_data = co2.frame\n",
    "co2_data[\"date\"] = pd.to_datetime(co2_data[[\"year\", \"month\", \"day\"]])\n",
    "co2_data = co2_data[[\"date\", \"co2\"]].set_index(\"date\")\n",
    "co2_data.head()"
   ]
  },
  {
   "cell_type": "code",
   "execution_count": 3,
   "id": "5458e491-2ba6-4d5c-be1e-9cc087547c30",
   "metadata": {},
   "outputs": [
    {
     "data": {
      "image/png": "[encoded data removed]",
      "text/plain": [
       "<Figure size 432x288 with 1 Axes>"
      ]
     },
     "metadata": {
      "needs_background": "light"
     },
     "output_type": "display_data"
    }
   ],
   "source": [
    "import matplotlib.pyplot as plt\n",
    "\n",
    "co2_data = co2_data.resample(\"M\").mean().dropna(axis=\"index\", how=\"any\")\n",
    "co2_data.plot()\n",
    "plt.ylabel(\"Monthly average of CO$_2$ concentration (ppm)\")\n",
    "_ = plt.title(\n",
    "    \"Monthly average of air samples measurements\\nfrom the Mauna Loa Observatory\"\n",
    ")"
   ]
  },
  {
   "cell_type": "code",
   "execution_count": 4,
   "id": "ee0e0c47-a828-4966-b6b4-20f888ed429d",
   "metadata": {},
   "outputs": [],
   "source": [
    "import numpy as np\n",
    "X = (co2_data.index.year + co2_data.index.month / 12).to_numpy().reshape(-1, 1)\n",
    "y = co2_data[\"co2\"].to_numpy().reshape(-1, 1)\n",
    "np.save(\"mauna_loa_co2_X.npy\", X)\n",
    "np.save(\"mauna_loa_co2_y.npy\", y)"
   ]
  },
  {
   "cell_type": "markdown",
   "id": "24bc2882-ae4f-4944-9a88-1c0e175998ca",
   "metadata": {},
   "source": [
    "## Dataset inspection"
   ]
  },
  {
   "cell_type": "code",
   "execution_count": 5,
   "id": "b0829c59-aa4b-4a0f-8891-fdaf983e179b",
   "metadata": {},
   "outputs": [
    {
     "name": "stdout",
     "output_type": "stream",
     "text": [
      "(521, 1)\n",
      "(521, 1)\n"
     ]
    }
   ],
   "source": [
    "import numpy as np\n",
    "import matplotlib.pyplot as plt\n",
    "\n",
    "X = np.load(\"mauna_loa_co2_X.npy\")\n",
    "y = np.load(\"mauna_loa_co2_y.npy\")\n",
    "print(X.shape)\n",
    "print(y.shape)"
   ]
  },
  {
   "cell_type": "code",
   "execution_count": 6,
   "id": "4189b965-7ef8-407d-bc70-8f5ed8012755",
   "metadata": {},
   "outputs": [
    {
     "data": {
      "text/plain": [
       "[<matplotlib.lines.Line2D at 0x1bb310a2c40>]"
      ]
     },
     "execution_count": 6,
     "metadata": {},
     "output_type": "execute_result"
    },
    {
     "data": {
      "image/png": "[encoded data removed]",
      "text/plain": [
       "<Figure size 432x288 with 1 Axes>"
      ]
     },
     "metadata": {
      "needs_background": "light"
     },
     "output_type": "display_data"
    }
   ],
   "source": [
    "plt.plot(X, y)"
   ]
  },
  {
   "cell_type": "markdown",
   "id": "17a8c406-c1ad-41c2-b404-ef6a55d75393",
   "metadata": {},
   "source": [
    "## GpMix training"
   ]
  },
  {
   "cell_type": "code",
   "execution_count": 7,
   "id": "98e9f3e2-c589-4257-9559-83e18d0d8f65",
   "metadata": {},
   "outputs": [],
   "source": [
    "import egobox as egx\n",
    "\n",
    "# We train with linear regression and matern52 correlation models\n",
    "gpmix = egx.GpMix(regr_spec=egx.RegressionSpec.LINEAR, corr_spec=egx.CorrelationSpec.MATERN52)\n",
    "# When in doubt you can train on all regression/correlation combinations, but it takes more time\n",
    "# gpmix = egx.GpMix(regr_spec=egx.RegressionSpec.ALL, corr_spec=egx.CorrelationSpec.ALL)\n",
    "gpmix.set_training_values(X, y)\n",
    "gpx = gpmix.train()"
   ]
  },
  {
   "cell_type": "markdown",
   "id": "fcdbaea0-1e8d-4398-96fb-418f06a0718e",
   "metadata": {},
   "source": [
    "## Gpx test"
   ]
  },
  {
   "cell_type": "code",
   "execution_count": 8,
   "id": "123b60b7-5ed9-4ab7-9e5c-4a77b00086b6",
   "metadata": {},
   "outputs": [],
   "source": [
    "X_test = np.linspace(start=1958, stop=2000, num=100).reshape(-1, 1)\n",
    "y_test = gpx.predict_values(X_test)"
   ]
  },
  {
   "cell_type": "code",
   "execution_count": 9,
   "id": "99339efe-1349-44bb-ad1a-0b0b825b1991",
   "metadata": {},
   "outputs": [],
   "source": [
    "y_pred = gpx.predict_values(X_test)"
   ]
  },
  {
   "cell_type": "code",
   "execution_count": 10,
   "id": "bb1e2c0e-8f6b-4275-b4f5-9afa86941633",
   "metadata": {},
   "outputs": [
    {
     "name": "stdout",
     "output_type": "stream",
     "text": [
      "(100, 1)\n",
      "(100, 1)\n"
     ]
    },
    {
     "data": {
      "image/png": "[encoded data removed]",
      "text/plain": [
       "<Figure size 432x288 with 1 Axes>"
      ]
     },
     "metadata": {
      "needs_background": "light"
     },
     "output_type": "display_data"
    }
   ],
   "source": [
    "plt.plot(y_test, y_test, '-')\n",
    "plt.plot(y_test, y_pred, 'o')\n",
    "print(y_test.shape)\n",
    "print(y_pred.shape)"
   ]
  },
  {
   "cell_type": "code",
   "execution_count": 11,
   "id": "61b8ee30-85b3-477c-a1fd-416b1968d4a4",
   "metadata": {},
   "outputs": [
    {
     "data": {
      "text/plain": [
       "[<matplotlib.lines.Line2D at 0x1bb3116ddf0>]"
      ]
     },
     "execution_count": 11,
     "metadata": {},
     "output_type": "execute_result"
    },
    {
     "data": {
      "image/png": "[encoded data removed]",
      "text/plain": [
       "<Figure size 432x288 with 1 Axes>"
      ]
     },
     "metadata": {
      "needs_background": "light"
     },
     "output_type": "display_data"
    }
   ],
   "source": [
    "X_test = np.linspace(start=1958, stop=2000, num=1000).reshape(-1, 1)\n",
    "y_test = gpx.predict_values(X_test)\n",
    "plt.plot(X_test, y_test)"
   ]
  },
  {
   "cell_type": "code",
   "execution_count": 12,
   "id": "2643c5e3-e8ba-4de7-99e7-ef83d6ffc511",
   "metadata": {},
   "outputs": [
    {
     "name": "stdout",
     "output_type": "stream",
     "text": [
      "Help on class GpMix in module builtins:\n",
      "\n",
      "class GpMix(object)\n",
      " |  Gaussian processes mixture builder\n",
      " |  \n",
      " |  n_clusters (int >= 0)\n",
      " |      Number of clusters used by the mixture of surrogate experts.\n",
      " |      When set to 0, the number of cluster is determined automatically and refreshed every\n",
      " |      10-points addition (should say 'tentative addition' because addition may fail for some points\n",
      " |      but it is counted anyway).\n",
      " |  \n",
      " |  regr_spec (RegressionSpec flags, an int in [1, 7]):\n",
      " |      Specification of regression models used in mixture.\n",
      " |      Can be RegressionSpec.CONSTANT (1), RegressionSpec.LINEAR (2), RegressionSpec.QUADRATIC (4) or\n",
      " |      any bit-wise union of these values (e.g. RegressionSpec.CONSTANT | RegressionSpec.LINEAR)\n",
      " |  \n",
      " |  corr_spec (CorrelationSpec flags, an int in [1, 15]):\n",
      " |      Specification of correlation models used in mixture.\n",
      " |      Can be CorrelationSpec.SQUARED_EXPONENTIAL (1), CorrelationSpec.ABSOLUTE_EXPONENTIAL (2),\n",
      " |      CorrelationSpec.MATERN32 (4), CorrelationSpec.MATERN52 (8) or\n",
      " |      any bit-wise union of these values (e.g. CorrelationSpec.MATERN32 | CorrelationSpec.MATERN52)\n",
      " |  \n",
      " |  recombination (Recombination.Smooth or Recombination.Hard)\n",
      " |      Specify how the various experts predictions are recombined\n",
      " |      * Smooth: prediction is a combination of experts prediction wrt their responsabilities,\n",
      " |      an optional heaviside factor might be used control steepness of the change between experts regions.\n",
      " |      * Hard: prediction is taken from the expert with highest responsability\n",
      " |      resulting in a model with discontinuities.\n",
      " |  \n",
      " |  kpls_dim (0 < int < nx where nx is the dimension of inputs x)\n",
      " |      Number of components to be used when PLS projection is used (a.k.a KPLS method).\n",
      " |      This is used to address high-dimensional problems typically when nx > 9.\n",
      " |  \n",
      " |  seed (int >= 0)\n",
      " |      Random generator seed to allow computation reproducibility.\n",
      " |  \n",
      " |  Methods defined here:\n",
      " |  \n",
      " |  set_training_values(...)\n",
      " |      Set the training dataset (xt, yt) used to train the Gaussian process mixture.\n",
      " |      \n",
      " |      Parameters\n",
      " |          xt (array[nsamples, nx]): input samples\n",
      " |          yt (array[nsamples, 1]): output samples\n",
      " |  \n",
      " |  train(...)\n",
      " |      Fit the parameters of the model using the training dataset to build a trained model\n",
      " |      \n",
      " |      Returns Gpx object\n",
      " |          the fitted Gaussian process mixture\n",
      " |  \n",
      " |  ----------------------------------------------------------------------\n",
      " |  Static methods defined here:\n",
      " |  \n",
      " |  __new__(*args, **kwargs) from builtins.type\n",
      " |      Create and return a new object.  See help(type) for accurate signature.\n",
      "\n"
     ]
    }
   ],
   "source": [
    "help(egx.GpMix)"
   ]
  },
  {
   "cell_type": "code",
   "execution_count": 13,
   "id": "6bcd1829-56ce-4789-b7d4-329c88a63d67",
   "metadata": {},
   "outputs": [
    {
     "name": "stdout",
     "output_type": "stream",
     "text": [
      "Help on class Gpx in module builtins:\n",
      "\n",
      "class Gpx(object)\n",
      " |  A trained Gaussian processes mixture\n",
      " |  \n",
      " |  Methods defined here:\n",
      " |  \n",
      " |  predict_values(...)\n",
      " |      Predict output values at nsamples points.\n",
      " |      \n",
      " |      Parameters\n",
      " |          x (array[nsamples, nx])\n",
      " |              input values\n",
      " |      \n",
      " |      Returns\n",
      " |          the output values at nsamples x points (array[nsamples, 1])\n",
      " |  \n",
      " |  predict_variances(...)\n",
      " |      Predict variances at nsample points.\n",
      " |      \n",
      " |      Parameters\n",
      " |          x (array[nsamples, nx])\n",
      " |              input values\n",
      " |      \n",
      " |      Returns\n",
      " |          the variances of the output values at nsamples input points (array[nsamples, 1])\n",
      " |  \n",
      " |  save(...)\n",
      " |      Save Gaussian processes mixture in a json file.\n",
      " |      \n",
      " |      Parameters\n",
      " |          filename (string)\n",
      " |              json file generated in the current directory\n",
      " |  \n",
      " |  ----------------------------------------------------------------------\n",
      " |  Static methods defined here:\n",
      " |  \n",
      " |  __new__(*args, **kwargs) from builtins.type\n",
      " |      Create and return a new object.  See help(type) for accurate signature.\n",
      " |  \n",
      " |  builder(...)\n",
      " |      Get Gaussian processes mixture builder aka `GpMix`\n",
      " |      \n",
      " |      See `GpMix` constructor\n",
      " |  \n",
      " |  load(...)\n",
      " |      Load Gaussian processes mixture from a json file.\n",
      " |      \n",
      " |      Parameters\n",
      " |          filename (string)\n",
      " |              json filepath generated by saving a trained Gaussian processes mixture\n",
      "\n"
     ]
    }
   ],
   "source": [
    "help(egx.Gpx)"
   ]
  }
 ],
 "metadata": {
  "kernelspec": {
   "display_name": "Python 3 (ipykernel)",
   "language": "python",
   "name": "python3"
  },
  "language_info": {
   "codemirror_mode": {
    "name": "ipython",
    "version": 3
   },
   "file_extension": ".py",
   "mimetype": "text/x-python",
   "name": "python",
   "nbconvert_exporter": "python",
   "pygments_lexer": "ipython3",
   "version": "3.8.5"
  }
 },
 "nbformat": 4,
 "nbformat_minor": 5
}
